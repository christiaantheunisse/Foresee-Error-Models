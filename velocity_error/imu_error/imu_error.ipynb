{
 "cells": [
  {
   "cell_type": "markdown",
   "metadata": {},
   "source": [
    "# IMU error"
   ]
  },
  {
   "cell_type": "code",
   "execution_count": 1,
   "metadata": {},
   "outputs": [],
   "source": [
    "import pandas as pd\n",
    "import numpy as np\n",
    "import matplotlib.pyplot as plt\n",
    "import matplotlib as mpl"
   ]
  },
  {
   "cell_type": "code",
   "execution_count": 2,
   "metadata": {},
   "outputs": [],
   "source": [
    "imu_df = pd.read_csv(\"imu_data.csv\")\n",
    "slam_df = pd.read_csv(\"slam_data.csv\")"
   ]
  },
  {
   "cell_type": "code",
   "execution_count": 3,
   "metadata": {},
   "outputs": [],
   "source": [
    "def calc_average_vel_imu(stamps: np.ndarray, velocities: np.ndarray) -> float:\n",
    "    \"\"\"Calculate the average velocity for the imu\"\"\"\n",
    "    return velocities.mean()\n",
    "\n",
    "def unnormalize_orientation(orientations: np.ndarray) -> np.ndarray:\n",
    "    \"\"\"The orientation data is unnormalized meaning that the values can be outside the range of [-pi, pi].\"\"\"\n",
    "    orient_diffs = np.diff(orientations)\n",
    "    normalization_steps = (np.abs(orient_diffs) >= np.pi).astype(int) * -np.sign(orient_diffs)\n",
    "    return orientations + 2 * np.pi * np.insert(np.cumsum(normalization_steps), 0, 0)"
   ]
  },
  {
   "cell_type": "markdown",
   "metadata": {},
   "source": [
    "### 1. Calculate the average velocity for the SLAM and the IMU"
   ]
  },
  {
   "cell_type": "markdown",
   "metadata": {},
   "source": [
    "### 2. Calculate the biases and MSSDs\n",
    "\n",
    "The **bias** is expressed as the factor with which the average velocity from the IMU differs from the average velocity SLAM.\n",
    "\n",
    "$$bias = \\frac{v_{avg,IMU} - v_{avg,SLAM}}{v_{avg,SLAM}}$$\n",
    "\n",
    "The **variance** is estimate with the Mean Square Successive Difference (MSSD)"
   ]
  },
  {
   "cell_type": "code",
   "execution_count": 9,
   "metadata": {},
   "outputs": [],
   "source": [
    "def calculate_bias(vel_imu: float, vel_slam: float) -> float:\n",
    "    \"\"\"Calculate the bias as a factor of the slam velocity\"\"\"\n",
    "    # return (vel_imu - vel_slam) / vel_slam\n",
    "    return (vel_imu - vel_slam) / vel_slam\n",
    "\n",
    "\n",
    "def MSSD(values: np.ndarray) -> float:\n",
    "    \"\"\"Calculate the Mean Square Successive Difference (MSSD)\"\"\"\n",
    "    return 0.5 * (np.sum((values[:-1] - values[1:]) ** 2) / (len(values) - 1)).astype(float)"
   ]
  },
  {
   "cell_type": "code",
   "execution_count": 15,
   "metadata": {},
   "outputs": [
    {
     "name": "stdout",
     "output_type": "stream",
     "text": [
      "17.4 µs ± 321 ns per loop (mean ± std. dev. of 7 runs, 100,000 loops each)\n"
     ]
    }
   ],
   "source": [
    "%%timeit\n",
    "np.diff(imu_df_part[\"stamps\"])"
   ]
  },
  {
   "cell_type": "code",
   "execution_count": 16,
   "metadata": {},
   "outputs": [
    {
     "name": "stdout",
     "output_type": "stream",
     "text": [
      "7.23 µs ± 60.4 ns per loop (mean ± std. dev. of 7 runs, 100,000 loops each)\n"
     ]
    }
   ],
   "source": [
    "%%timeit\n",
    "np.diff(imu_df_part[\"stamps\"].to_numpy())"
   ]
  },
  {
   "cell_type": "code",
   "execution_count": 22,
   "metadata": {},
   "outputs": [
    {
     "data": {
      "text/plain": [
       "1.4959255764461235"
      ]
     },
     "execution_count": 22,
     "metadata": {},
     "output_type": "execute_result"
    }
   ],
   "source": [
    "np.sum(imu_df_part[\"angular velocities\"].to_numpy()[1:] * np.diff(imu_df_part[\"stamps\"].to_numpy())) / np.sum(np.diff(imu_df_part[\"stamps\"].to_numpy()))\n"
   ]
  },
  {
   "cell_type": "code",
   "execution_count": null,
   "metadata": {},
   "outputs": [],
   "source": []
  },
  {
   "cell_type": "code",
   "execution_count": 34,
   "metadata": {},
   "outputs": [
    {
     "data": {
      "text/html": [
       "<div>\n",
       "<style scoped>\n",
       "    .dataframe tbody tr th:only-of-type {\n",
       "        vertical-align: middle;\n",
       "    }\n",
       "\n",
       "    .dataframe tbody tr th {\n",
       "        vertical-align: top;\n",
       "    }\n",
       "\n",
       "    .dataframe thead th {\n",
       "        text-align: right;\n",
       "    }\n",
       "</style>\n",
       "<table border=\"1\" class=\"dataframe\">\n",
       "  <thead>\n",
       "    <tr style=\"text-align: right;\">\n",
       "      <th></th>\n",
       "      <th>velocities</th>\n",
       "      <th>biases</th>\n",
       "      <th>mssds</th>\n",
       "    </tr>\n",
       "  </thead>\n",
       "  <tbody>\n",
       "    <tr>\n",
       "      <th>0</th>\n",
       "      <td>0.306289</td>\n",
       "      <td>-0.168550</td>\n",
       "      <td>0.000435</td>\n",
       "    </tr>\n",
       "    <tr>\n",
       "      <th>1</th>\n",
       "      <td>0.472821</td>\n",
       "      <td>-0.178338</td>\n",
       "      <td>0.000363</td>\n",
       "    </tr>\n",
       "    <tr>\n",
       "      <th>2</th>\n",
       "      <td>0.646993</td>\n",
       "      <td>-0.186334</td>\n",
       "      <td>0.000610</td>\n",
       "    </tr>\n",
       "    <tr>\n",
       "      <th>3</th>\n",
       "      <td>0.800498</td>\n",
       "      <td>-0.195505</td>\n",
       "      <td>0.000586</td>\n",
       "    </tr>\n",
       "    <tr>\n",
       "      <th>4</th>\n",
       "      <td>0.973137</td>\n",
       "      <td>-0.194859</td>\n",
       "      <td>0.000984</td>\n",
       "    </tr>\n",
       "    <tr>\n",
       "      <th>5</th>\n",
       "      <td>1.145994</td>\n",
       "      <td>-0.148659</td>\n",
       "      <td>0.000997</td>\n",
       "    </tr>\n",
       "    <tr>\n",
       "      <th>6</th>\n",
       "      <td>1.321463</td>\n",
       "      <td>-0.168934</td>\n",
       "      <td>0.001572</td>\n",
       "    </tr>\n",
       "    <tr>\n",
       "      <th>7</th>\n",
       "      <td>1.491885</td>\n",
       "      <td>-0.181815</td>\n",
       "      <td>0.001974</td>\n",
       "    </tr>\n",
       "  </tbody>\n",
       "</table>\n",
       "</div>"
      ],
      "text/plain": [
       "   velocities    biases     mssds\n",
       "0    0.306289 -0.168550  0.000435\n",
       "1    0.472821 -0.178338  0.000363\n",
       "2    0.646993 -0.186334  0.000610\n",
       "3    0.800498 -0.195505  0.000586\n",
       "4    0.973137 -0.194859  0.000984\n",
       "5    1.145994 -0.148659  0.000997\n",
       "6    1.321463 -0.168934  0.001572\n",
       "7    1.491885 -0.181815  0.001974"
      ]
     },
     "execution_count": 34,
     "metadata": {},
     "output_type": "execute_result"
    }
   ],
   "source": [
    "# Iterate over the different experiments and calculate the bias and mssd for each one\n",
    "\n",
    "results_dict = {\n",
    "    \"velocities\": [],\n",
    "    \"biases\": [],\n",
    "    \"mssds\": [],\n",
    "}\n",
    "for number in pd.unique(imu_df[\"numbers\"]):\n",
    "    imu_df_part = imu_df[imu_df[\"numbers\"] == number]\n",
    "    slam_df_part = slam_df[slam_df[\"numbers\"] == number]\n",
    "\n",
    "    ### 1. Calculate the average velocity\n",
    "    # imu average velocity\n",
    "    avg_velocity_imu = imu_df_part[\"angular velocities\"].mean()\n",
    "    avg_velocity_imu = np.sum(imu_df_part[\"angular velocities\"].to_numpy()[:-1] * np.diff(imu_df_part[\"stamps\"].to_numpy())) / np.sum(np.diff(imu_df_part[\"stamps\"].to_numpy()))\n",
    "    # slam average velocity\n",
    "    orients_unnorm = unnormalize_orientation(slam_df_part[\"orientations\"].to_numpy())\n",
    "    rotation = orients_unnorm[-1] - orients_unnorm[0]\n",
    "    duration = slam_df_part[\"stamps\"].iloc[-1] - slam_df_part[\"stamps\"].iloc[0]\n",
    "    avg_velocity_slam = rotation / duration\n",
    "\n",
    "    results_dict['velocities'].append(avg_velocity_imu)\n",
    "\n",
    "    ### 1B. use the total distance\n",
    "    # avg_velocity_imu = np.sum(imu_df_part[\"angular velocities\"].to_numpy()[1:] * np.diff(imu_df_part[\"stamps\"].to_numpy()))\n",
    "    # avg_velocity_slam = rotation\n",
    "    # print(np.sum(np.diff(slam_df_part[\"orientations\"].to_numpy())<0))\n",
    "\n",
    "    ### 2. Calculate the biases and MSSDs\n",
    "    bias = calculate_bias(avg_velocity_imu, avg_velocity_slam)\n",
    "    mssd = MSSD(imu_df_part[\"angular velocities\"].to_numpy())\n",
    "\n",
    "    results_dict[\"biases\"].append(bias)\n",
    "    results_dict[\"mssds\"].append(mssd)\n",
    "\n",
    "results_df = pd.DataFrame.from_dict(results_dict)\n",
    "\n",
    "results_df"
   ]
  },
  {
   "cell_type": "markdown",
   "metadata": {},
   "source": [
    "### 3. Visualize"
   ]
  },
  {
   "cell_type": "code",
   "execution_count": 39,
   "metadata": {},
   "outputs": [
    {
     "data": {
      "image/png": "[encoded data removed]",
      "text/plain": [
       "<Figure size 640x480 with 3 Axes>"
      ]
     },
     "metadata": {},
     "output_type": "display_data"
    },
    {
     "name": "stdout",
     "output_type": "stream",
     "text": [
      "Bias (or calibration) factor: mean=-0.178; median=-0.180\n",
      "Variance estimate: mean=0.00094; max=0.00197\n"
     ]
    }
   ],
   "source": [
    "fig, axs = plt.subplots(1, 2, layout=\"constrained\")\n",
    "\n",
    "velocities, biases, mssds = results_df[\"velocities\"], results_df[\"biases\"], results_df[\"mssds\"]\n",
    "\n",
    "ax = axs[0]\n",
    "ax.boxplot(biases)\n",
    "ax.scatter(np.full_like(biases, 1), biases, c=velocities, cmap=\"cool\", zorder=10, s=70, alpha=0.6)\n",
    "ax.set_ylabel(\"bias factor [-]\")\n",
    "ax.set_title(\"Bias at different velocities\")\n",
    "# ax.set_xticklabels([\"bias\"])\n",
    "ax.tick_params(axis=\"x\", which=\"both\", bottom=False, top=False, labelbottom=False)\n",
    "# ax.set_xlabel(\"(a)\")\n",
    "ax.yaxis.grid(ls=\":\")\n",
    "\n",
    "ax = axs[1]\n",
    "# stds = np.sqrt(mssds)\n",
    "ax.boxplot(mssds)\n",
    "ax.scatter(np.full_like(mssds, 1), mssds, c=velocities, cmap=\"cool\", zorder=10, s=70, alpha=0.6)\n",
    "# ax.set_ylabel(\"angular velocity\" + r\"$^2$\" +\" [rad\" + r\"$^2$\" + \"/s\" + r\"$^2$\" + \"]\")\n",
    "ax.set_ylabel(\"variance estimate\" + \" [rad\" + r\"$^2$\" + \"/s\" + r\"$^2$\" + \"]\")\n",
    "ax.set_title(\"MSSD at different velocities\")\n",
    "# ax.set_xticklabels([\"mssd\"])\n",
    "ax.tick_params(axis=\"x\", which=\"both\", bottom=False, top=False, labelbottom=False)\n",
    "ax.yaxis.grid(ls=\":\")\n",
    "\n",
    "cbar = fig.colorbar(\n",
    "    mpl.cm.ScalarMappable(norm=mpl.colors.Normalize(velocities.min(), velocities.max()), cmap=\"cool\"),\n",
    "    ax=ax,\n",
    "    shrink=0.8,\n",
    "    pad=0.2,\n",
    ")\n",
    "cbar.set_label(\"Average angular velocity [rad/s]\", rotation=270, labelpad=20)\n",
    "\n",
    "# plt.tight_layout()\n",
    "plt.savefig(\"imu_error_fit.pdf\", bbox_inches=\"tight\")\n",
    "plt.savefig(\"imu_error_fit.png\", bbox_inches=\"tight\")\n",
    "plt.show()\n",
    "\n",
    "print(f\"Bias (or calibration) factor: mean={np.mean(biases):.3f}; median={np.median(biases):.3f}\")\n",
    "print(f\"Variance estimate: mean={np.mean(mssds):.5f}; max={np.max(mssds):.5f}\")"
   ]
  },
  {
   "cell_type": "code",
   "execution_count": null,
   "metadata": {},
   "outputs": [],
   "source": []
  }
 ],
 "metadata": {
  "kernelspec": {
   "display_name": "thesis",
   "language": "python",
   "name": "python3"
  },
  "language_info": {
   "codemirror_mode": {
    "name": "ipython",
    "version": 3
   },
   "file_extension": ".py",
   "mimetype": "text/x-python",
   "name": "python",
   "nbconvert_exporter": "python",
   "pygments_lexer": "ipython3",
   "version": "3.10.12"
  }
 },
 "nbformat": 4,
 "nbformat_minor": 2
}
